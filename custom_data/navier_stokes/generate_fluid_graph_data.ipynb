{
 "cells": [
  {
   "cell_type": "markdown",
   "id": "722baa54",
   "metadata": {},
   "source": [
    "#### This code converts fluid data to graph data into a format that aligns with PyTorch Geometric format. It has the following attributes:\n",
    " - **data.x**: Node feature matrix with shape [num_nodes, num_node_features]\n",
    " - **data.edge_index**: Graph connectivity in COO format with shape [2, num_edges] and type torch.long\n",
    " - **data.y**: Reynolds number associated with each data points with shape [1] and type torch.long\n",
    " - **data.pos**: Node position matrix with shape [num_nodes, num_dimensions]"
   ]
  },
  {
   "cell_type": "code",
   "execution_count": 1,
   "id": "267cb82c",
   "metadata": {},
   "outputs": [],
   "source": [
    "# Import libraries\n",
    "import numpy as np\n",
    "import torch\n",
    "from torch_geometric.data import Data"
   ]
  },
  {
   "cell_type": "markdown",
   "id": "680634df",
   "metadata": {},
   "source": [
    "#### Load the values of x-component of velocity vector from FEM solution of Navier-Stokes equation for 4000 time points and different Reynolds number. "
   ]
  },
  {
   "cell_type": "code",
   "execution_count": 3,
   "id": "732ea19d",
   "metadata": {},
   "outputs": [],
   "source": [
    "# data loader\n",
    "data_folder = \"./datasets\"\n",
    "\n",
    "# For Reynolds number varying from 20,21,...40 and 100,101,..,120\n",
    "data_file = '/vel_x.npy'\n",
    "\n",
    "# For Reynolds number varying from 30,40,...,120\n",
    "#data_file= '/vel_x_fluid_MNIST.npy'\n",
    "\n",
    "if data_file == '/vel_x.npy':\n",
    "    list1 = list(range(20,41,1))\n",
    "    list2 = list(range(100,121,1))\n",
    "    Relist = list1 + list2    \n",
    "else:\n",
    "    Relist = list(range(30,121,10))\n",
    "\n",
    "\n",
    "data_filename = data_folder + data_file \n",
    "\n",
    "vel_x = np.load(data_filename)\n",
    "\n",
    "graphs_all = vel_x.reshape(1,vel_x.shape[0]*vel_x.shape[1],vel_x.shape[2])\n",
    "\n",
    "labels = np.repeat(Relist,4000)\n",
    "\n",
    "Graph_Data_Size = graphs_all.shape[1]\n",
    "#print(Graph_Data_Size)"
   ]
  },
  {
   "cell_type": "code",
   "execution_count": 4,
   "id": "9623acf4",
   "metadata": {},
   "outputs": [],
   "source": [
    "# Define function to convert fluid array to graph\n",
    "def load_flow_graph(data_size=4000):\n",
    "    data_list = []\n",
    "    edge = torch.tensor(np.genfromtxt(data_folder + '/refined_edges', dtype=np.int32), dtype=torch.long)\n",
    "    pos = torch.tensor(np.load(data_folder + '/position.npy'), dtype=torch.float)\n",
    "    for t in range(data_size): \n",
    "        x = torch.tensor(graphs_all[:,t,:].T, dtype=torch.float) \n",
    "        y = torch.tensor(labels[t], dtype=torch.long)\n",
    "        d = Data(x=x, edge_index=edge.t().contiguous(), y=y, pos=pos)\n",
    "        data_list.append(d)\n",
    "    print(\"Complete!\")\n",
    "    return data_list"
   ]
  },
  {
   "cell_type": "code",
   "execution_count": 5,
   "id": "c7ee58f7",
   "metadata": {},
   "outputs": [
    {
     "name": "stdout",
     "output_type": "stream",
     "text": [
      "Complete!\n"
     ]
    }
   ],
   "source": [
    "# Convert fluid data into PyTorch Geometric graph dataset format\n",
    "flow_list = load_flow_graph(data_size = Graph_Data_Size)\n",
    "\n",
    "# Save the graph data\n",
    "torch.save(flow_list, 'vel_x_graph.pt')"
   ]
  }
 ],
 "metadata": {
  "kernelspec": {
   "display_name": "Python 3 (ipykernel)",
   "language": "python",
   "name": "python3"
  },
  "language_info": {
   "codemirror_mode": {
    "name": "ipython",
    "version": 3
   },
   "file_extension": ".py",
   "mimetype": "text/x-python",
   "name": "python",
   "nbconvert_exporter": "python",
   "pygments_lexer": "ipython3",
   "version": "3.7.13"
  }
 },
 "nbformat": 4,
 "nbformat_minor": 5
}
